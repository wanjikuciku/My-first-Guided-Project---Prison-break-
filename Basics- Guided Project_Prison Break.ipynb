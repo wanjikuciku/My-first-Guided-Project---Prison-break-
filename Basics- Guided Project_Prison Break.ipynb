{
 "cells": [
  {
   "cell_type": "markdown",
   "metadata": {},
   "source": [
    "# Data Analysis Project -- Prison Break"
   ]
  },
  {
   "cell_type": "markdown",
   "metadata": {},
   "source": [
    "## Background"
   ]
  },
  {
   "cell_type": "markdown",
   "metadata": {},
   "source": [
    "This analysis is based on a short [Wikipedia article](https://en.wikipedia.org/wiki/List_of_helicopter_prison_escapes) about attempted escapes from different prisons around the world using helicopters.\n",
    "\n",
    "We will analyze the data from the article using Python, and our analysis will aim to answer the following questions:\n",
    "\n",
    "* In which year did the most helicopter prison break attempts occur?\n",
    "* In which countries did the most attempted helicopter prison breaks occur?\n",
    "* In which countries do helicopter prison breaks have a higher chance of success?\n",
    "* How does the number of escapees affect the success?\n",
    "* Which escapees have attempted prison breaks more than once?"
   ]
  },
  {
   "cell_type": "markdown",
   "metadata": {},
   "source": [
    "**We begin by importing the following Python modules to aid our analysis:**\n",
    "\n",
    "* ```IPython.display``` for displaying data (interactive computing with other programming languages - in our case, HTML),\n",
    "* ```Pandas``` for converting the dataset into a dataframe and manipulating it to extract information,\n",
    "* ```Re``` for matching regular expressions in the data, and\n",
    "* ```Matplotlib``` for creating data visualizations."
   ]
  },
  {
   "cell_type": "code",
   "execution_count": 1,
   "metadata": {},
   "outputs": [],
   "source": [
    "import pandas as pd\n",
    "import re\n",
    "import matplotlib.pyplot as plt\n",
    "from IPython.display import display, HTML"
   ]
  },
  {
   "cell_type": "markdown",
   "metadata": {},
   "source": [
    "**Next, we'll extract the data from the url page by executing the following code:**"
   ]
  },
  {
   "cell_type": "code",
   "execution_count": 2,
   "metadata": {},
   "outputs": [],
   "source": [
    "url = 'https://en.wikipedia.org/wiki/List_of_helicopter_prison_escapes'\n",
    "df = pd.read_html(url)[1]\n",
    "data = df.to_numpy().tolist()"
   ]
  },
  {
   "cell_type": "markdown",
   "metadata": {},
   "source": [
    "The information is now stored in the ```data``` variable and ready to be analysed. \n",
    "\n",
    "We also note that each column in the data has the following headers:\n",
    "\n",
    "* Date - The date on which the escape was attempted\n",
    "* Prison Name - The prison from which the escape was attempted\n",
    "* Country - The country where the prison is located\n",
    "* Succeeded - Whether the attempt succeeded or not\n",
    "* Escapee(s) - The names of the prisoner(s) that attempted the escape\n",
    "* Details - More information about the escape attempt.\n",
    "\n",
    "**Let's explore the data:**"
   ]
  },
  {
   "cell_type": "code",
   "execution_count": 3,
   "metadata": {
    "scrolled": true
   },
   "outputs": [
    {
     "name": "stdout",
     "output_type": "stream",
     "text": [
      "['August 19, 1971', 'Santa Martha Acatitla', 'Mexico', 'Yes', 'Joel David Kaplan Carlos Antonio Contreras Castro', \"Joel David Kaplan was a New York businessman who had been arrested for murder in 1962 in Mexico City and was incarcerated at the Santa Martha Acatitla prison in the Iztapalapa borough of Mexico City. Joel's sister, Judy Kaplan, arranged the means to help Kaplan escape, and on August 19, 1971, a helicopter landed in the prison yard. The guards mistakenly thought this was an official visit. In two minutes, Kaplan and his cellmate Carlos Antonio Contreras, a Venezuelan counterfeiter, were able to board the craft and were piloted away, before any shots were fired.[9] Both men were flown to Texas and then different planes flew Kaplan to California and Contreras to Guatemala.[3] The Mexican government never initiated extradition proceedings against Kaplan.[9] The escape is told in a book, The 10-Second Jailbreak: The Helicopter Escape of Joel David Kaplan.[4] It also inspired the 1975 action movie Breakout, which starred Charles Bronson and Robert Duvall.[9]\"]\n",
      "['October 31, 1973', 'Mountjoy Jail', 'Ireland', 'Yes', \"JB O'Hagan Seamus TwomeyKevin Mallon\", 'On October 31, 1973, an IRA member hijacked a helicopter and forced the pilot to land in the exercise yard of Dublin\\'s Mountjoy Jail\\'s D Wing at 3:40\\xa0p.m., October 31, 1973. Three members of the IRA were able to escape: JB O\\'Hagan, Seamus Twomey and Kevin Mallon. Another prisoner who also was in the prison was quoted as saying, \"One shamefaced screw apologised to the governor and said he thought it was the new Minister for Defence (Paddy Donegan) arriving. I told him it was our Minister of Defence leaving.\" The Mountjoy helicopter escape became Republican lore and was immortalized by \"The Helicopter Song\", which contains the lines \"It\\'s up like a bird and over the city. There\\'s three men a\\'missing I heard the warder say\".[1]']\n",
      "['May 24, 1978', 'United States Penitentiary, Marion', 'United States', 'No', 'Garrett Brock TrapnellMartin Joseph McNallyJames Kenneth Johnson', \"43-year-old Barbara Ann Oswald hijacked a Saint Louis-based charter helicopter and forced the pilot to land in the yard at USP Marion. While landing the aircraft, the pilot, Allen Barklage, who was a Vietnam War veteran, struggled with Oswald and managed to wrestle the gun away from her. Barklage then shot and killed Oswald, thwarting the escape.[10] A few months later Oswald's daughter hijacked TWA Flight 541 in an effort to free Trapnell.\"]\n"
     ]
    }
   ],
   "source": [
    "# display the first 3 rows\n",
    "\n",
    "for row in data[:3]:\n",
    "    print(row)"
   ]
  },
  {
   "cell_type": "markdown",
   "metadata": {},
   "source": [
    "Upon reviewing the data, we see that the **\"Details\"** (last) column makes the data appear bogus and is surplus to requirement for our analysis, so we will proceed to remove it."
   ]
  },
  {
   "cell_type": "code",
   "execution_count": 4,
   "metadata": {
    "scrolled": true
   },
   "outputs": [
    {
     "name": "stdout",
     "output_type": "stream",
     "text": [
      "[['August 19, 1971', 'Santa Martha Acatitla', 'Mexico', 'Yes', 'Joel David Kaplan Carlos Antonio Contreras Castro'], ['October 31, 1973', 'Mountjoy Jail', 'Ireland', 'Yes', \"JB O'Hagan Seamus TwomeyKevin Mallon\"], ['May 24, 1978', 'United States Penitentiary, Marion', 'United States', 'No', 'Garrett Brock TrapnellMartin Joseph McNallyJames Kenneth Johnson']]\n"
     ]
    }
   ],
   "source": [
    "# retain only the first 5 columns, and display the first 3 rows\n",
    "\n",
    "index = 0\n",
    "for row in data:\n",
    "    data[index] = row[:5]\n",
    "    index += 1\n",
    "\n",
    "print(data[:3])"
   ]
  },
  {
   "cell_type": "markdown",
   "metadata": {},
   "source": [
    "Our data is now easier to look at. \n",
    "\n",
    "Now, let's proceed to answer our analysis questions.\n",
    "\n",
    "The first question is: **In which year did the most helicopter prison break attempts occur?**"
   ]
  },
  {
   "cell_type": "markdown",
   "metadata": {},
   "source": [
    "## 1. Escape attempts per year\n",
    "\n",
    "To answer this question, we will start by isolating the years in the \"Date\" column."
   ]
  },
  {
   "cell_type": "code",
   "execution_count": 5,
   "metadata": {},
   "outputs": [
    {
     "name": "stdout",
     "output_type": "stream",
     "text": [
      "[[1971, 'Santa Martha Acatitla', 'Mexico', 'Yes', 'Joel David Kaplan Carlos Antonio Contreras Castro'], [1973, 'Mountjoy Jail', 'Ireland', 'Yes', \"JB O'Hagan Seamus TwomeyKevin Mallon\"], [1978, 'United States Penitentiary, Marion', 'United States', 'No', 'Garrett Brock TrapnellMartin Joseph McNallyJames Kenneth Johnson']]\n"
     ]
    }
   ],
   "source": [
    "# remove the month and day from the \"Date\" column, and display the first 3 rows\n",
    "\n",
    "for row in data:\n",
    "    row[0] = int(re.findall(\"\\d{4}\", row[0])[0])\n",
    "    \n",
    "print(data[:3])"
   ]
  },
  {
   "cell_type": "markdown",
   "metadata": {},
   "source": [
    "**Awesome!**\n",
    "\n",
    "Next we will compute the frequency of attempted escapes for each year. But before we achieve that, let us first tranform the years into a list and also get the range of the years."
   ]
  },
  {
   "cell_type": "code",
   "execution_count": 6,
   "metadata": {
    "scrolled": true
   },
   "outputs": [
    {
     "name": "stdout",
     "output_type": "stream",
     "text": [
      "1971\n",
      "2020\n",
      "[1971, 1972, 1973, 1974] ... [2017, 2018, 2019, 2020]\n"
     ]
    }
   ],
   "source": [
    "min_year = min(data, key=lambda x: x[0])[0]\n",
    "max_year = max(data, key=lambda x: x[0])[0]\n",
    "\n",
    "years = []\n",
    "for y in range(min_year, max_year + 1):\n",
    "    years.append(y)\n",
    "\n",
    "print (min_year)\n",
    "print (max_year)\n",
    "print (years[:4], \"...\", years[-4:])"
   ]
  },
  {
   "cell_type": "markdown",
   "metadata": {},
   "source": [
    "**We can see from the result above that the years range from 1971 to 2020. In other words, the data spans a 50-year period.**\n",
    "\n",
    "Let us now will now structure the years into a new list of lists in a way that will allow us see the number of attempts for each year."
   ]
  },
  {
   "cell_type": "code",
   "execution_count": 7,
   "metadata": {},
   "outputs": [
    {
     "name": "stdout",
     "output_type": "stream",
     "text": [
      "[[1971, 0], [1972, 0], [1973, 0], [1974, 0], [1975, 0], [1976, 0], [1977, 0], [1978, 0], [1979, 0], [1980, 0], [1981, 0], [1982, 0], [1983, 0], [1984, 0], [1985, 0], [1986, 0], [1987, 0], [1988, 0], [1989, 0], [1990, 0], [1991, 0], [1992, 0], [1993, 0], [1994, 0], [1995, 0], [1996, 0], [1997, 0], [1998, 0], [1999, 0], [2000, 0], [2001, 0], [2002, 0], [2003, 0], [2004, 0], [2005, 0], [2006, 0], [2007, 0], [2008, 0], [2009, 0], [2010, 0], [2011, 0], [2012, 0], [2013, 0], [2014, 0], [2015, 0], [2016, 0], [2017, 0], [2018, 0], [2019, 0], [2020, 0]]\n"
     ]
    }
   ],
   "source": [
    "# set the initial attempts per year to zero.\n",
    "\n",
    "attempts_per_year = []\n",
    "for year in years:\n",
    "    attempts_per_year.append([year, 0])\n",
    "\n",
    "print(attempts_per_year)"
   ]
  },
  {
   "cell_type": "markdown",
   "metadata": {},
   "source": [
    "Great!\n",
    "\n",
    "Now, let's update the actual number of attempts for each year. We expect the results in the updated attempts_per_year list to reflect the actual number of attempts from our original \"Data\" list. From this list, we will be able to identify the year with the most escape attempts."
   ]
  },
  {
   "cell_type": "code",
   "execution_count": 8,
   "metadata": {},
   "outputs": [
    {
     "name": "stdout",
     "output_type": "stream",
     "text": [
      "[[1971, 1], [1972, 0], [1973, 1], [1974, 0], [1975, 0], [1976, 0], [1977, 0], [1978, 1], [1979, 0], [1980, 0], [1981, 2], [1982, 0], [1983, 1], [1984, 0], [1985, 2], [1986, 3], [1987, 1], [1988, 1], [1989, 2], [1990, 1], [1991, 1], [1992, 2], [1993, 1], [1994, 0], [1995, 0], [1996, 1], [1997, 1], [1998, 0], [1999, 1], [2000, 2], [2001, 3], [2002, 2], [2003, 1], [2004, 0], [2005, 2], [2006, 1], [2007, 3], [2008, 0], [2009, 3], [2010, 1], [2011, 0], [2012, 1], [2013, 2], [2014, 1], [2015, 0], [2016, 1], [2017, 0], [2018, 1], [2019, 0], [2020, 1]]\n"
     ]
    }
   ],
   "source": [
    "# update frequency of attempts per year\n",
    "\n",
    "for row in data:\n",
    "    for ya in attempts_per_year:\n",
    "        y = ya[0]\n",
    "        if row[0] == y:\n",
    "            ya[1] += 1\n",
    "\n",
    "print(attempts_per_year)"
   ]
  },
  {
   "cell_type": "markdown",
   "metadata": {},
   "source": [
    "Looks good so far!\n",
    "\n",
    "However, for better visualization, we will plot our list of lists on a chart."
   ]
  },
  {
   "cell_type": "code",
   "execution_count": 9,
   "metadata": {
    "scrolled": true
   },
   "outputs": [
    {
     "data": {
      "image/png": "[encoded data removed]",
      "text/plain": [
       "<Figure size 648x1080 with 1 Axes>"
      ]
     },
     "metadata": {
      "needs_background": "light"
     },
     "output_type": "display_data"
    }
   ],
   "source": [
    "# retrieve the parameters for our chart from the list of lists\n",
    "p = {ya[0]:ya[1] for ya in attempts_per_year}\n",
    "\n",
    "\n",
    "# Next, customize the chart elements to enhance readability\n",
    "\n",
    "plt.figure(figsize=(9,15))  # Increase chart size\n",
    "\n",
    "axes = plt.axes()\n",
    "axes.get_xaxis().set_visible(False)  # Remove the x-axis\n",
    "\n",
    "axes.tick_params(tick1On=False)  # Remove the border-ticks on each axis\n",
    "plt.yticks(list(p.keys()), list(p.keys()))  # Display all the parameters (years) on the y-axis\n",
    "\n",
    "spines = axes.spines\n",
    "spines['top'].set_visible(False)\n",
    "spines['right'].set_visible(False)\n",
    "spines['bottom'].set_visible(False)\n",
    "spines['left'].set_visible(False)   # Remove all borders from the chart\n",
    "\n",
    "plt.title(\"Frequency of Attempted Escapes per Year\", loc='left', pad=0, \n",
    "          fontsize=18, fontweight='bold', color=\"#3D3D3D\") # Add the chart title\n",
    "\n",
    "\n",
    "# Next, create the plot on a horizontal bar chart\n",
    "ax = plt.barh(*zip(*p.items()), height=0.5, color=\"#A72D0C\")\n",
    "\n",
    "\n",
    "# Finally, customize the barplots to include the labels (number of attempted escapes) and further improve readability\n",
    "rectangles = ax.patches\n",
    "for rectangle in rectangles:\n",
    "    x_value = rectangle.get_width()\n",
    "    y_value = rectangle.get_y() + rectangle.get_height() / 2\n",
    "    space = 5\n",
    "    ha = 'left'\n",
    "    label = \"{}\".format(x_value)\n",
    "    if x_value > 0:\n",
    "        plt.annotate(\n",
    "            label,\n",
    "            (x_value, y_value),\n",
    "            xytext=(space, 0),\n",
    "            textcoords=\"offset points\",\n",
    "            va='center',\n",
    "            ha=ha)\n",
    "\n",
    "plt.tight_layout()     #  display the chart to fit into the figure area"
   ]
  },
  {
   "cell_type": "markdown",
   "metadata": {},
   "source": [
    "Much better! \n",
    "\n",
    "Now we can easily tell that the years with the highest number of attempts are: **```1986```**, **```2001```**, **```2007```** and **```2009```**.\n",
    "\n",
    "Let's proceed to answer the second question: \n",
    "**In which countries did the most attempted helicopter prison breaks occur?**"
   ]
  },
  {
   "cell_type": "markdown",
   "metadata": {},
   "source": [
    "## 2. Countries with the most escape attempts\n",
    "\n",
    "To answer this question, we'll look at a list of the unique countries in our dataset, as well as the frequency of attempts for each of them. **Our aim here is to display the result in a tabular format with column headers and html-styling**.\n",
    "\n",
    "Recall that we previously transformed our prison escape data to a dataframe and assigned it to a variable called **```df```**. We will use the pandas method ```series.value_counts()``` to manipulate this dataframe in order to generate a frequency list that contains the number of attempts per country automatically sorted in descending order."
   ]
  },
  {
   "cell_type": "code",
   "execution_count": 10,
   "metadata": {
    "scrolled": false
   },
   "outputs": [
    {
     "data": {
      "text/html": [
       "<table border=\"1\" class=\"dataframe\">\n",
       "  <thead>\n",
       "    <tr style=\"text-align: right;\">\n",
       "      <th>Country</th>\n",
       "      <th>Number of Attempts</th>\n",
       "    </tr>\n",
       "  </thead>\n",
       "  <tbody>\n",
       "    <tr>\n",
       "      <td>France</td>\n",
       "      <td>15</td>\n",
       "    </tr>\n",
       "    <tr>\n",
       "      <td>United States</td>\n",
       "      <td>8</td>\n",
       "    </tr>\n",
       "    <tr>\n",
       "      <td>Canada</td>\n",
       "      <td>4</td>\n",
       "    </tr>\n",
       "    <tr>\n",
       "      <td>Greece</td>\n",
       "      <td>4</td>\n",
       "    </tr>\n",
       "    <tr>\n",
       "      <td>Belgium</td>\n",
       "      <td>4</td>\n",
       "    </tr>\n",
       "    <tr>\n",
       "      <td>Australia</td>\n",
       "      <td>2</td>\n",
       "    </tr>\n",
       "    <tr>\n",
       "      <td>Brazil</td>\n",
       "      <td>2</td>\n",
       "    </tr>\n",
       "    <tr>\n",
       "      <td>United Kingdom</td>\n",
       "      <td>2</td>\n",
       "    </tr>\n",
       "    <tr>\n",
       "      <td>Mexico</td>\n",
       "      <td>1</td>\n",
       "    </tr>\n",
       "    <tr>\n",
       "      <td>Ireland</td>\n",
       "      <td>1</td>\n",
       "    </tr>\n",
       "    <tr>\n",
       "      <td>Italy</td>\n",
       "      <td>1</td>\n",
       "    </tr>\n",
       "    <tr>\n",
       "      <td>Puerto Rico</td>\n",
       "      <td>1</td>\n",
       "    </tr>\n",
       "    <tr>\n",
       "      <td>Chile</td>\n",
       "      <td>1</td>\n",
       "    </tr>\n",
       "    <tr>\n",
       "      <td>Netherlands</td>\n",
       "      <td>1</td>\n",
       "    </tr>\n",
       "    <tr>\n",
       "      <td>Russia</td>\n",
       "      <td>1</td>\n",
       "    </tr>\n",
       "  </tbody>\n",
       "</table>"
      ],
      "text/plain": [
       "<IPython.core.display.HTML object>"
      ]
     },
     "metadata": {},
     "output_type": "display_data"
    }
   ],
   "source": [
    "# generate frequency list for attempts per country\n",
    "country_frequency = df.Country.value_counts()\n",
    "\n",
    "countries = country_frequency.index   # extract the index (countries) from the frequency list\n",
    "attempts = country_frequency.values   # extract the frequency of occurence for each country \n",
    "\n",
    "country_frequency_dict = {\"Country\": countries, \"Number of Attempts\": attempts}  # store the extracted data in dictionary form\n",
    "\n",
    "display(HTML(pd.DataFrame(country_frequency_dict).to_html(index=False)))  # display result in a table with column headers."
   ]
  },
  {
   "cell_type": "markdown",
   "metadata": {},
   "source": [
    "Looks good!\n",
    "\n",
    "**To better understand the distribution of the escape attempts for each country, let us visualize this result on a pie chart:**"
   ]
  },
  {
   "cell_type": "code",
   "execution_count": 11,
   "metadata": {},
   "outputs": [
    {
     "data": {
      "image/png": "[encoded data removed]",
      "text/plain": [
       "<Figure size 648x1080 with 1 Axes>"
      ]
     },
     "metadata": {},
     "output_type": "display_data"
    }
   ],
   "source": [
    "fig, ax = plt.subplots(figsize= (9,15))   # initiate plot and set chart size \n",
    "\n",
    "# plot the pie chart and set the parameters\n",
    "patches, texts, pcts = ax.pie(country_frequency, labels=countries, autopct='%.0f%%', startangle=350, pctdistance=0.85, \n",
    "                              wedgeprops={'linewidth': 1.0, 'edgecolor': 'white'})   \n",
    "\n",
    "ax.set_title(\"Distribution of Total Prison Breaks by Country\", loc='left', pad=0.0, \n",
    "             fontsize=18, fontweight='bold', color=\"#3D3D3D\")   # set chart title\n",
    "\n",
    "for i, patch in enumerate(patches):\n",
    "    texts[i].set_color(patch.get_facecolor())   # set chart labels to adopt corresponding patch color\n",
    "\n",
    "plt.setp(pcts, color='white', weight= 'bold', size=12)   # format the numeric labels for each pie\n",
    "plt.setp(texts, fontweight=600, fontsize=14)    # format the text labels for each pie\n",
    "\n",
    "plt.tight_layout()    # display the chart to fit into the figure area"
   ]
  },
  {
   "cell_type": "markdown",
   "metadata": {},
   "source": [
    "Great! \n",
    "\n",
    "So, we can see that **```France```** ranked highest with a total of 15 prison break attempts; and this represents about 31% of the total escape attempts across all countries.\n",
    "\n",
    "We now move on to the next question for our analysis: **In which countries do helicopter prison breaks have a higher chance of success?**"
   ]
  },
  {
   "cell_type": "markdown",
   "metadata": {},
   "source": [
    "## 3. Countries with the most successful attempts"
   ]
  },
  {
   "cell_type": "markdown",
   "metadata": {},
   "source": [
    "To answer this question, we will first compute the total successful escape attempts per country:"
   ]
  },
  {
   "cell_type": "code",
   "execution_count": 12,
   "metadata": {
    "scrolled": false
   },
   "outputs": [
    {
     "name": "stdout",
     "output_type": "stream",
     "text": [
      "France            11\n",
      "United States      6\n",
      "Canada             3\n",
      "Brazil             2\n",
      "Greece             2\n",
      "Belgium            2\n",
      "Mexico             1\n",
      "Ireland            1\n",
      "Italy              1\n",
      "United Kingdom     1\n",
      "Puerto Rico        1\n",
      "Chile              1\n",
      "Australia          1\n",
      "Russia             1\n",
      "Name: Country, dtype: int64\n"
     ]
    }
   ],
   "source": [
    "escape_success = (df[df[\"Succeeded\"]==\"Yes\"]).Country.value_counts()\n",
    "\n",
    "print(escape_success)"
   ]
  },
  {
   "cell_type": "markdown",
   "metadata": {},
   "source": [
    "Next, we will determine the success rate per country by expressing the successful attempts per country divided by the total attempts per country as a percentage:"
   ]
  },
  {
   "cell_type": "code",
   "execution_count": 13,
   "metadata": {
    "scrolled": true
   },
   "outputs": [
    {
     "name": "stdout",
     "output_type": "stream",
     "text": [
      "Australia          50.0\n",
      "Belgium            50.0\n",
      "Brazil            100.0\n",
      "Canada             75.0\n",
      "Chile             100.0\n",
      "France             73.3\n",
      "Greece             50.0\n",
      "Ireland           100.0\n",
      "Italy             100.0\n",
      "Mexico            100.0\n",
      "Netherlands         NaN\n",
      "Puerto Rico       100.0\n",
      "Russia            100.0\n",
      "United Kingdom     50.0\n",
      "United States      75.0\n",
      "Name: Country, dtype: float64\n"
     ]
    }
   ],
   "source": [
    "escape_success_rate = round(escape_success / country_frequency * 100, 1)\n",
    "\n",
    "print(escape_success_rate)"
   ]
  },
  {
   "cell_type": "markdown",
   "metadata": {},
   "source": [
    "Nice!\n",
    "\n",
    "**Notice the value for the Netherlands? It means that there have been no successful attempts in that country!**\n",
    "\n",
    "Let's go ahead and visualize this result:"
   ]
  },
  {
   "cell_type": "code",
   "execution_count": 14,
   "metadata": {
    "scrolled": true
   },
   "outputs": [
    {
     "data": {
      "image/png": "[encoded data removed]",
      "text/plain": [
       "<Figure size 720x576 with 1 Axes>"
      ]
     },
     "metadata": {
      "needs_background": "light"
     },
     "output_type": "display_data"
    }
   ],
   "source": [
    "# visualize the escape success rate on a bar chart \n",
    "fig, ax = plt.subplots(figsize= (10,8))\n",
    "labels = escape_success_rate.index\n",
    "values = escape_success_rate.values\n",
    "colors = (\"#A5225D\", \"#A5225D\", \"#A5225D\", \"#FFC000\", \"#A5225D\", \"#FFC000\", \"#A5225D\", \n",
    "          \"#A5225D\", \"#A5225D\", \"#A5225D\", \"#A5225D\", \"#A5225D\", \"#A5225D\", \"#A5225D\", \"#FFC000\")\n",
    "\n",
    "bars = ax.barh(labels, values, color=colors) \n",
    "ax.set_title(\"Success Rate of Prison Breaks per Country\", loc='left', pad=0.0, \n",
    "             fontsize=18, fontweight='bold', color=\"#3D3D3D\")   # set chart title\n",
    "\n",
    "ax.tick_params(left=False, bottom=False, labelbottom=False)\n",
    "ax.bar_label(bars, fontsize=12, fontweight='bold', color=\"#FFFFFF\", label_type=\"center\", fmt=\"%.0f%%\")\n",
    "\n",
    "for spine in ax.spines:\n",
    "    ax.spines[spine].set_visible(False)\n",
    "\n",
    "plt.yticks(color=\"#3D3D3D\", fontweight='bold', fontsize='12')\n",
    "plt.tight_layout()"
   ]
  },
  {
   "cell_type": "markdown",
   "metadata": {},
   "source": [
    "Interesting!\n",
    "\n",
    "**We can see that even though France has the highest number of attempts, the odds of a successful prison break are about the same with countries like the United States and Canada with significantly lower attempts.** \n",
    "\n",
    "**There is also a 50% chance that escape attempts in Australian, Belgian, Greek, and UK prisons would be successful.**\n",
    "\n",
    "Now to the next question: **How does the number of escapees affect the success?**"
   ]
  },
  {
   "cell_type": "markdown",
   "metadata": {},
   "source": [
    "## 4. Successful Escapes Vs. Number of Escapees\n",
    "\n",
    "To answer this question, we will:\n",
    "\n",
    "1. Determine the number of successful prison breaks vs. unsuccessful ones\n",
    "2. Explore the relationship between the number of escapees for each attempt and the success of the attempt.\n",
    "\n",
    "First, let's us compute and visualize the number of escapes that succeeded and those that did not succeed:"
   ]
  },
  {
   "cell_type": "code",
   "execution_count": 15,
   "metadata": {
    "scrolled": true
   },
   "outputs": [
    {
     "name": "stdout",
     "output_type": "stream",
     "text": [
      "Yes    34\n",
      "No     14\n",
      "Name: Succeeded, dtype: int64\n"
     ]
    },
    {
     "data": {
      "image/png": "[encoded data removed]",
      "text/plain": [
       "<Figure size 432x432 with 1 Axes>"
      ]
     },
     "metadata": {},
     "output_type": "display_data"
    }
   ],
   "source": [
    "# compute and display status of total escape attempts\n",
    "escape_status = df.Succeeded.value_counts()\n",
    "print(escape_status)\n",
    "\n",
    "# visualize status of total escape attempts\n",
    "fig, ax = plt.subplots(figsize= (6,6)) \n",
    "patches, texts, pcts = ax.pie(escape_status, labels=(\"Succeeded\", \"Did Not Succeed\"), autopct='%.0f%%', startangle=90,\n",
    "                              wedgeprops={'linewidth': 1.0, 'edgecolor': 'white'}, colors=(\"#BF4E08\",\"#1A651A\"))  \n",
    "\n",
    "ax.set_title(\"Status of Prison Escape Attempts\", loc='left', fontsize=18, fontweight='bold', color=\"#3D3D3D\")\n",
    "plt.setp(pcts, color='white', weight= 'bold', size=14)\n",
    "plt.setp(texts, fontweight=600, fontsize=14, color=\"#3D3D3D\")\n",
    "\n",
    "plt.tight_layout()"
   ]
  },
  {
   "cell_type": "markdown",
   "metadata": {},
   "source": [
    "**The results show that the number of successful escapes was nearly 2.5 times the number of unseccessful ones; and the successful escapes made for 71% of the total attempts in the period under review.** \n",
    "\n",
    "Next, we will try to identify the number of escapees for each escape attempt in our dataset. \n",
    "\n",
    "**Upon reviewing the data, we know that escapees are listed by their first and last names. Therefore, if we split the string of names in the \"Escapee(s)\" column into separate strings of words, we can expect exactly 2 words for single escapees, and more than 2 words for two or more escapees.**\n",
    "\n",
    "We will execute this now. \n",
    "\n",
    "But before that let's eliminate the parentheses from the \"Escapee(s)\" column name by renaming it to \"Escapees\" so that it doesn't throw up errors during computing:"
   ]
  },
  {
   "cell_type": "code",
   "execution_count": 16,
   "metadata": {},
   "outputs": [
    {
     "data": {
      "text/html": [
       "<div>\n",
       "<style scoped>\n",
       "    .dataframe tbody tr th:only-of-type {\n",
       "        vertical-align: middle;\n",
       "    }\n",
       "\n",
       "    .dataframe tbody tr th {\n",
       "        vertical-align: top;\n",
       "    }\n",
       "\n",
       "    .dataframe thead th {\n",
       "        text-align: right;\n",
       "    }\n",
       "</style>\n",
       "<table border=\"1\" class=\"dataframe\">\n",
       "  <thead>\n",
       "    <tr style=\"text-align: right;\">\n",
       "      <th></th>\n",
       "      <th>Date</th>\n",
       "      <th>Prison name</th>\n",
       "      <th>Country</th>\n",
       "      <th>Succeeded</th>\n",
       "      <th>Escapees</th>\n",
       "      <th>Details</th>\n",
       "    </tr>\n",
       "  </thead>\n",
       "  <tbody>\n",
       "    <tr>\n",
       "      <th>0</th>\n",
       "      <td>August 19, 1971</td>\n",
       "      <td>Santa Martha Acatitla</td>\n",
       "      <td>Mexico</td>\n",
       "      <td>Yes</td>\n",
       "      <td>Joel David Kaplan Carlos Antonio Contreras Castro</td>\n",
       "      <td>Joel David Kaplan was a New York businessman w...</td>\n",
       "    </tr>\n",
       "  </tbody>\n",
       "</table>\n",
       "</div>"
      ],
      "text/plain": [
       "              Date            Prison name Country Succeeded  \\\n",
       "0  August 19, 1971  Santa Martha Acatitla  Mexico       Yes   \n",
       "\n",
       "                                            Escapees  \\\n",
       "0  Joel David Kaplan Carlos Antonio Contreras Castro   \n",
       "\n",
       "                                             Details  \n",
       "0  Joel David Kaplan was a New York businessman w...  "
      ]
     },
     "execution_count": 16,
     "metadata": {},
     "output_type": "execute_result"
    }
   ],
   "source": [
    "df.rename(columns={'Escapee(s)':'Escapees'}, inplace=True)\n",
    "df[:1]"
   ]
  },
  {
   "cell_type": "markdown",
   "metadata": {},
   "source": [
    "Awesome.\n",
    "\n",
    "Now, let's split the escapee names into separate words and return the number of words for each row.\n",
    "\n",
    "*Note that for prison breaks where the names of the escapees are not known, there's a \"---\" in the data. The operation above will return a value of 1 for these rows. So we'll also be replacing the 1s with 0s to indicate unknown escapees.*"
   ]
  },
  {
   "cell_type": "code",
   "execution_count": 17,
   "metadata": {},
   "outputs": [
    {
     "data": {
      "text/html": [
       "<div>\n",
       "<style scoped>\n",
       "    .dataframe tbody tr th:only-of-type {\n",
       "        vertical-align: middle;\n",
       "    }\n",
       "\n",
       "    .dataframe tbody tr th {\n",
       "        vertical-align: top;\n",
       "    }\n",
       "\n",
       "    .dataframe thead th {\n",
       "        text-align: right;\n",
       "    }\n",
       "</style>\n",
       "<table border=\"1\" class=\"dataframe\">\n",
       "  <thead>\n",
       "    <tr style=\"text-align: right;\">\n",
       "      <th></th>\n",
       "      <th>Escapees</th>\n",
       "      <th>Num_Escapees</th>\n",
       "    </tr>\n",
       "  </thead>\n",
       "  <tbody>\n",
       "    <tr>\n",
       "      <th>1</th>\n",
       "      <td>JB O'Hagan Seamus TwomeyKevin Mallon</td>\n",
       "      <td>5</td>\n",
       "    </tr>\n",
       "    <tr>\n",
       "      <th>2</th>\n",
       "      <td>Garrett Brock TrapnellMartin Joseph McNallyJam...</td>\n",
       "      <td>7</td>\n",
       "    </tr>\n",
       "    <tr>\n",
       "      <th>5</th>\n",
       "      <td>David McMillan</td>\n",
       "      <td>2</td>\n",
       "    </tr>\n",
       "    <tr>\n",
       "      <th>17</th>\n",
       "      <td>—</td>\n",
       "      <td>0</td>\n",
       "    </tr>\n",
       "    <tr>\n",
       "      <th>18</th>\n",
       "      <td>—</td>\n",
       "      <td>0</td>\n",
       "    </tr>\n",
       "    <tr>\n",
       "      <th>46</th>\n",
       "      <td>Rédoine Faïd</td>\n",
       "      <td>2</td>\n",
       "    </tr>\n",
       "    <tr>\n",
       "      <th>47</th>\n",
       "      <td>Kristel A.</td>\n",
       "      <td>2</td>\n",
       "    </tr>\n",
       "  </tbody>\n",
       "</table>\n",
       "</div>"
      ],
      "text/plain": [
       "                                             Escapees  Num_Escapees\n",
       "1                JB O'Hagan Seamus TwomeyKevin Mallon             5\n",
       "2   Garrett Brock TrapnellMartin Joseph McNallyJam...             7\n",
       "5                                      David McMillan             2\n",
       "17                                                  —             0\n",
       "18                                                  —             0\n",
       "46                                       Rédoine Faïd             2\n",
       "47                                         Kristel A.             2"
      ]
     },
     "execution_count": 17,
     "metadata": {},
     "output_type": "execute_result"
    }
   ],
   "source": [
    "#  split escapee names, return the number of words and record it in a new column called \"Num_Escapees\"\n",
    "df[\"Num_Escapees\"] = df[\"Escapees\"].str.split().apply(len)  \n",
    "\n",
    "df[\"Num_Escapees\"] = df[\"Num_Escapees\"].replace([1],[0])   #  replace 1s with 0s in the Num_Escapees column\n",
    "\n",
    "df.iloc[[1,2,5,17,18,46,47], [4, 6]]    #  display select rows and columns to show the changes made"
   ]
  },
  {
   "cell_type": "markdown",
   "metadata": {},
   "source": [
    "Looks good.\n",
    "\n",
    "However, as it is, the data in the Num_Escapees column does not exactly serve our purpose. To make the data more helpful, we will categorize the column into \"One Escapee\", \"Two or More Escapees\", and \"Unknown\".\n",
    "\n",
    "To achieve this, we will create a function called \"condition\" and apply it to the Num_Escapees column using the ```series.apply()``` method."
   ]
  },
  {
   "cell_type": "code",
   "execution_count": 18,
   "metadata": {
    "scrolled": true
   },
   "outputs": [
    {
     "data": {
      "text/html": [
       "<div>\n",
       "<style scoped>\n",
       "    .dataframe tbody tr th:only-of-type {\n",
       "        vertical-align: middle;\n",
       "    }\n",
       "\n",
       "    .dataframe tbody tr th {\n",
       "        vertical-align: top;\n",
       "    }\n",
       "\n",
       "    .dataframe thead th {\n",
       "        text-align: right;\n",
       "    }\n",
       "</style>\n",
       "<table border=\"1\" class=\"dataframe\">\n",
       "  <thead>\n",
       "    <tr style=\"text-align: right;\">\n",
       "      <th></th>\n",
       "      <th>Escapees</th>\n",
       "      <th>Num_Escapees</th>\n",
       "    </tr>\n",
       "  </thead>\n",
       "  <tbody>\n",
       "    <tr>\n",
       "      <th>1</th>\n",
       "      <td>JB O'Hagan Seamus TwomeyKevin Mallon</td>\n",
       "      <td>Two or More Escapees</td>\n",
       "    </tr>\n",
       "    <tr>\n",
       "      <th>2</th>\n",
       "      <td>Garrett Brock TrapnellMartin Joseph McNallyJam...</td>\n",
       "      <td>Two or More Escapees</td>\n",
       "    </tr>\n",
       "    <tr>\n",
       "      <th>5</th>\n",
       "      <td>David McMillan</td>\n",
       "      <td>One Escapee</td>\n",
       "    </tr>\n",
       "    <tr>\n",
       "      <th>17</th>\n",
       "      <td>—</td>\n",
       "      <td>Unknown</td>\n",
       "    </tr>\n",
       "    <tr>\n",
       "      <th>18</th>\n",
       "      <td>—</td>\n",
       "      <td>Unknown</td>\n",
       "    </tr>\n",
       "    <tr>\n",
       "      <th>46</th>\n",
       "      <td>Rédoine Faïd</td>\n",
       "      <td>One Escapee</td>\n",
       "    </tr>\n",
       "    <tr>\n",
       "      <th>47</th>\n",
       "      <td>Kristel A.</td>\n",
       "      <td>One Escapee</td>\n",
       "    </tr>\n",
       "  </tbody>\n",
       "</table>\n",
       "</div>"
      ],
      "text/plain": [
       "                                             Escapees          Num_Escapees\n",
       "1                JB O'Hagan Seamus TwomeyKevin Mallon  Two or More Escapees\n",
       "2   Garrett Brock TrapnellMartin Joseph McNallyJam...  Two or More Escapees\n",
       "5                                      David McMillan           One Escapee\n",
       "17                                                  —               Unknown\n",
       "18                                                  —               Unknown\n",
       "46                                       Rédoine Faïd           One Escapee\n",
       "47                                         Kristel A.           One Escapee"
      ]
     },
     "execution_count": 18,
     "metadata": {},
     "output_type": "execute_result"
    }
   ],
   "source": [
    "# create function\n",
    "def condition(e):\n",
    "    if e==0:\n",
    "        return \"Unknown\"\n",
    "    elif e==2:\n",
    "        return \"One Escapee\"\n",
    "    else:\n",
    "        return \"Two or More Escapees\"\n",
    "\n",
    "# apply the function to Num_Escapees column\n",
    "df[\"Num_Escapees\"] = df[\"Num_Escapees\"].apply(condition)\n",
    "\n",
    "df.iloc[[1,2,5,17,18,46,47], [4, 6]]      #  display select rows and columns to show the changes made"
   ]
  },
  {
   "cell_type": "markdown",
   "metadata": {},
   "source": [
    "Great!\n",
    "\n",
    "Next, let us now compute and visualize the total **successful** escapes for each \"Num_Escapees\" category to see the relationship:"
   ]
  },
  {
   "cell_type": "code",
   "execution_count": 19,
   "metadata": {
    "scrolled": true
   },
   "outputs": [
    {
     "name": "stdout",
     "output_type": "stream",
     "text": [
      "Two or More Escapees    20\n",
      "One Escapee             11\n",
      "Unknown                  3\n",
      "Name: Num_Escapees, dtype: int64\n"
     ]
    },
    {
     "data": {
      "image/png": "[encoded data removed]",
      "text/plain": [
       "<Figure size 576x432 with 1 Axes>"
      ]
     },
     "metadata": {
      "needs_background": "light"
     },
     "output_type": "display_data"
    }
   ],
   "source": [
    "# compute total successful escapes for each Num_Escapees category\n",
    "num_successful_esc = (df[df[\"Succeeded\"]==\"Yes\"]).Num_Escapees.value_counts()\n",
    "print(num_successful_esc)\n",
    "\n",
    "# visualize the result on a column chart\n",
    "fig, ax = plt.subplots(figsize= (8,6))\n",
    "x = num_successful_esc.index\n",
    "y = num_successful_esc.values\n",
    "bars = ax.bar(x=x, height=y, color=\"#BF4E08\")\n",
    "ax.set_title(\"Successful Prison Breaks Per Number of Escapees\", pad=20, fontsize=18, fontweight='bold', color=\"#3D3D3D\")\n",
    "ax.tick_params(left=False, bottom=False, labelleft=False)\n",
    "ax.bar_label(bars, fontsize=12, fontweight='bold', color=\"#3D3D3D\")\n",
    "\n",
    "for spine in ax.spines:\n",
    "    ax.spines[spine].set_visible(False)\n",
    "\n",
    "plt.xticks(color=\"#3D3D3D\", fontweight='bold', fontsize='12')\n",
    "plt.tight_layout()"
   ]
  },
  {
   "cell_type": "markdown",
   "metadata": {},
   "source": [
    "**We can see from the results that the number od successful escapes involving two or more people is almost twice as much as successful escapes involving one person. This implies that  prison breaks that are planned and executed by two or more people are 2x more likely to succeed.**\n",
    "\n",
    "Finally, let's compute and visualize the total **unsuccessful** escapes for each \"Num_Escapees\" category to see the relationship:"
   ]
  },
  {
   "cell_type": "code",
   "execution_count": 20,
   "metadata": {},
   "outputs": [
    {
     "name": "stdout",
     "output_type": "stream",
     "text": [
      "One Escapee             7\n",
      "Unknown                 4\n",
      "Two or More Escapees    3\n",
      "Name: Num_Escapees, dtype: int64\n"
     ]
    },
    {
     "data": {
      "image/png": "[encoded data removed]",
      "text/plain": [
       "<Figure size 576x432 with 1 Axes>"
      ]
     },
     "metadata": {
      "needs_background": "light"
     },
     "output_type": "display_data"
    }
   ],
   "source": [
    "# compute total unsuccessful escapes for each Num_Escapees category\n",
    "num_unsuccessful_esc = (df[df[\"Succeeded\"]==\"No\"]).Num_Escapees.value_counts()\n",
    "print(num_unsuccessful_esc)\n",
    "\n",
    "# visualize the result on a column chart\n",
    "fig, ax = plt.subplots(figsize= (8,6))\n",
    "x = num_unsuccessful_esc.index\n",
    "y = num_unsuccessful_esc.values\n",
    "bars = ax.bar(x=x, height=y, color=\"#1A651A\")\n",
    "ax.set_title(\"Unsuccessful Prison Breaks Per Number of Escapees\", pad=20, fontsize=18, fontweight='bold', color=\"#3D3D3D\")\n",
    "ax.tick_params(left=False, bottom=False, labelleft=False)\n",
    "ax.bar_label(bars, fontsize=12, fontweight='bold', color=\"#3D3D3D\")\n",
    "\n",
    "for spine in ax.spines:\n",
    "    ax.spines[spine].set_visible(False)\n",
    "\n",
    "plt.xticks(color=\"#3D3D3D\", fontweight='bold', fontsize='12')\n",
    "plt.tight_layout()"
   ]
  },
  {
   "cell_type": "markdown",
   "metadata": {},
   "source": [
    "**Given the previous result, it's no surprise to see that majority of the failled escape attempts involved only one prisoner. Only less than 50% of that number involved two or more people.**\n",
    "\n",
    "Now, to the last question of this project: **Which escapees have attempted prison breaks more than once?**"
   ]
  },
  {
   "cell_type": "markdown",
   "metadata": {},
   "source": [
    "## 5. Escapees that have attempted more than once\n",
    "\n",
    "To anwer this question we will explore the \"Escapees\" column to identify the prisoners whose names appear more than once. \n",
    "\n",
    "To achieve this we will leverage the ```series.duplicated()``` method."
   ]
  },
  {
   "cell_type": "code",
   "execution_count": 21,
   "metadata": {},
   "outputs": [
    {
     "data": {
      "text/html": [
       "<div>\n",
       "<style scoped>\n",
       "    .dataframe tbody tr th:only-of-type {\n",
       "        vertical-align: middle;\n",
       "    }\n",
       "\n",
       "    .dataframe tbody tr th {\n",
       "        vertical-align: top;\n",
       "    }\n",
       "\n",
       "    .dataframe thead th {\n",
       "        text-align: right;\n",
       "    }\n",
       "</style>\n",
       "<table border=\"1\" class=\"dataframe\">\n",
       "  <thead>\n",
       "    <tr style=\"text-align: right;\">\n",
       "      <th></th>\n",
       "      <th>Date</th>\n",
       "      <th>Prison name</th>\n",
       "      <th>Country</th>\n",
       "      <th>Succeeded</th>\n",
       "      <th>Escapees</th>\n",
       "      <th>Details</th>\n",
       "      <th>Num_Escapees</th>\n",
       "    </tr>\n",
       "  </thead>\n",
       "  <tbody>\n",
       "    <tr>\n",
       "      <th>18</th>\n",
       "      <td>December 1992</td>\n",
       "      <td>Touraine Central Prison, Tours</td>\n",
       "      <td>France</td>\n",
       "      <td>No</td>\n",
       "      <td>—</td>\n",
       "      <td>The would-be escapee was shot dead by prison g...</td>\n",
       "      <td>Unknown</td>\n",
       "    </tr>\n",
       "    <tr>\n",
       "      <th>19</th>\n",
       "      <td>June 17, 1993</td>\n",
       "      <td>Touraine Central Prison, Tours</td>\n",
       "      <td>France</td>\n",
       "      <td>No</td>\n",
       "      <td>Michel Vaujour</td>\n",
       "      <td>Vaujour and his wife were imprisoned in 1991. ...</td>\n",
       "      <td>One Escapee</td>\n",
       "    </tr>\n",
       "    <tr>\n",
       "      <th>21</th>\n",
       "      <td>September 18, 1997</td>\n",
       "      <td>De Geerhorst jail</td>\n",
       "      <td>Netherlands</td>\n",
       "      <td>No</td>\n",
       "      <td>—</td>\n",
       "      <td>A September 18, 1997 escape attempt ended in f...</td>\n",
       "      <td>Unknown</td>\n",
       "    </tr>\n",
       "    <tr>\n",
       "      <th>24</th>\n",
       "      <td>December 13, 2000</td>\n",
       "      <td>Lyon prison</td>\n",
       "      <td>France</td>\n",
       "      <td>Yes</td>\n",
       "      <td>—</td>\n",
       "      <td>Three men were able to escape a prison near Ly...</td>\n",
       "      <td>Unknown</td>\n",
       "    </tr>\n",
       "    <tr>\n",
       "      <th>27</th>\n",
       "      <td>May 28, 2001</td>\n",
       "      <td>Fresnes prison</td>\n",
       "      <td>France</td>\n",
       "      <td>No</td>\n",
       "      <td>—</td>\n",
       "      <td>(Although not a helicopter escape in the trues...</td>\n",
       "      <td>Unknown</td>\n",
       "    </tr>\n",
       "    <tr>\n",
       "      <th>28</th>\n",
       "      <td>January 17, 2002</td>\n",
       "      <td>Parada Neto Penitentiary</td>\n",
       "      <td>Brazil</td>\n",
       "      <td>Yes</td>\n",
       "      <td>—</td>\n",
       "      <td>A helicopter was flown into Parada Neto Penite...</td>\n",
       "      <td>Unknown</td>\n",
       "    </tr>\n",
       "    <tr>\n",
       "      <th>31</th>\n",
       "      <td>July 2005</td>\n",
       "      <td>France</td>\n",
       "      <td>France</td>\n",
       "      <td>No</td>\n",
       "      <td>—</td>\n",
       "      <td>A helicopter escape attempt was foiled when al...</td>\n",
       "      <td>Unknown</td>\n",
       "    </tr>\n",
       "    <tr>\n",
       "      <th>35</th>\n",
       "      <td>July 15, 2007</td>\n",
       "      <td>Grasse prison</td>\n",
       "      <td>France</td>\n",
       "      <td>Yes</td>\n",
       "      <td>Pascal Payet</td>\n",
       "      <td>Pascal Payet, 43, escaped for the third time f...</td>\n",
       "      <td>One Escapee</td>\n",
       "    </tr>\n",
       "  </tbody>\n",
       "</table>\n",
       "</div>"
      ],
      "text/plain": [
       "                  Date                     Prison name      Country Succeeded  \\\n",
       "18       December 1992  Touraine Central Prison, Tours       France        No   \n",
       "19       June 17, 1993  Touraine Central Prison, Tours       France        No   \n",
       "21  September 18, 1997               De Geerhorst jail  Netherlands        No   \n",
       "24   December 13, 2000                     Lyon prison       France       Yes   \n",
       "27        May 28, 2001                  Fresnes prison       France        No   \n",
       "28    January 17, 2002        Parada Neto Penitentiary       Brazil       Yes   \n",
       "31           July 2005                          France       France        No   \n",
       "35       July 15, 2007                   Grasse prison       France       Yes   \n",
       "\n",
       "          Escapees                                            Details  \\\n",
       "18               —  The would-be escapee was shot dead by prison g...   \n",
       "19  Michel Vaujour  Vaujour and his wife were imprisoned in 1991. ...   \n",
       "21               —  A September 18, 1997 escape attempt ended in f...   \n",
       "24               —  Three men were able to escape a prison near Ly...   \n",
       "27               —  (Although not a helicopter escape in the trues...   \n",
       "28               —  A helicopter was flown into Parada Neto Penite...   \n",
       "31               —  A helicopter escape attempt was foiled when al...   \n",
       "35    Pascal Payet  Pascal Payet, 43, escaped for the third time f...   \n",
       "\n",
       "   Num_Escapees  \n",
       "18      Unknown  \n",
       "19  One Escapee  \n",
       "21      Unknown  \n",
       "24      Unknown  \n",
       "27      Unknown  \n",
       "28      Unknown  \n",
       "31      Unknown  \n",
       "35  One Escapee  "
      ]
     },
     "execution_count": 21,
     "metadata": {},
     "output_type": "execute_result"
    }
   ],
   "source": [
    "df[df[\"Escapees\"].duplicated()]"
   ]
  },
  {
   "cell_type": "markdown",
   "metadata": {},
   "source": [
    "To further refine our result, let us:\n",
    "\n",
    "1. Pass the ```keep=False``` parameter into the ```series.duplicated()``` method to return all instances of the duplicates\n",
    "2. Filter out the unknown escapees"
   ]
  },
  {
   "cell_type": "code",
   "execution_count": 22,
   "metadata": {},
   "outputs": [
    {
     "data": {
      "text/html": [
       "<div>\n",
       "<style scoped>\n",
       "    .dataframe tbody tr th:only-of-type {\n",
       "        vertical-align: middle;\n",
       "    }\n",
       "\n",
       "    .dataframe tbody tr th {\n",
       "        vertical-align: top;\n",
       "    }\n",
       "\n",
       "    .dataframe thead th {\n",
       "        text-align: right;\n",
       "    }\n",
       "</style>\n",
       "<table border=\"1\" class=\"dataframe\">\n",
       "  <thead>\n",
       "    <tr style=\"text-align: right;\">\n",
       "      <th></th>\n",
       "      <th>Date</th>\n",
       "      <th>Prison name</th>\n",
       "      <th>Country</th>\n",
       "      <th>Succeeded</th>\n",
       "      <th>Escapees</th>\n",
       "      <th>Details</th>\n",
       "      <th>Num_Escapees</th>\n",
       "    </tr>\n",
       "  </thead>\n",
       "  <tbody>\n",
       "    <tr>\n",
       "      <th>8</th>\n",
       "      <td>May 26, 1986</td>\n",
       "      <td>Prison de la Santé</td>\n",
       "      <td>France</td>\n",
       "      <td>Yes</td>\n",
       "      <td>Michel Vaujour</td>\n",
       "      <td>Vaujour had 28 years to serve for attempted mu...</td>\n",
       "      <td>One Escapee</td>\n",
       "    </tr>\n",
       "    <tr>\n",
       "      <th>19</th>\n",
       "      <td>June 17, 1993</td>\n",
       "      <td>Touraine Central Prison, Tours</td>\n",
       "      <td>France</td>\n",
       "      <td>No</td>\n",
       "      <td>Michel Vaujour</td>\n",
       "      <td>Vaujour and his wife were imprisoned in 1991. ...</td>\n",
       "      <td>One Escapee</td>\n",
       "    </tr>\n",
       "    <tr>\n",
       "      <th>25</th>\n",
       "      <td>January 19, 2001</td>\n",
       "      <td>Luynes prison</td>\n",
       "      <td>France</td>\n",
       "      <td>Yes</td>\n",
       "      <td>Pascal Payet</td>\n",
       "      <td>Pascal Payet escaped from Luynes prison using ...</td>\n",
       "      <td>One Escapee</td>\n",
       "    </tr>\n",
       "    <tr>\n",
       "      <th>35</th>\n",
       "      <td>July 15, 2007</td>\n",
       "      <td>Grasse prison</td>\n",
       "      <td>France</td>\n",
       "      <td>Yes</td>\n",
       "      <td>Pascal Payet</td>\n",
       "      <td>Pascal Payet, 43, escaped for the third time f...</td>\n",
       "      <td>One Escapee</td>\n",
       "    </tr>\n",
       "  </tbody>\n",
       "</table>\n",
       "</div>"
      ],
      "text/plain": [
       "                Date                     Prison name Country Succeeded  \\\n",
       "8       May 26, 1986              Prison de la Santé  France       Yes   \n",
       "19     June 17, 1993  Touraine Central Prison, Tours  France        No   \n",
       "25  January 19, 2001                   Luynes prison  France       Yes   \n",
       "35     July 15, 2007                   Grasse prison  France       Yes   \n",
       "\n",
       "          Escapees                                            Details  \\\n",
       "8   Michel Vaujour  Vaujour had 28 years to serve for attempted mu...   \n",
       "19  Michel Vaujour  Vaujour and his wife were imprisoned in 1991. ...   \n",
       "25    Pascal Payet  Pascal Payet escaped from Luynes prison using ...   \n",
       "35    Pascal Payet  Pascal Payet, 43, escaped for the third time f...   \n",
       "\n",
       "   Num_Escapees  \n",
       "8   One Escapee  \n",
       "19  One Escapee  \n",
       "25  One Escapee  \n",
       "35  One Escapee  "
      ]
     },
     "execution_count": 22,
     "metadata": {},
     "output_type": "execute_result"
    }
   ],
   "source": [
    "df[(df[\"Escapees\"].duplicated(keep=False)) & (df[\"Num_Escapees\"] != \"Unknown\")]"
   ]
  },
  {
   "cell_type": "markdown",
   "metadata": {},
   "source": [
    "Fantastic!\n",
    "\n",
    "**We can now see that ```Michel Vaujour``` attempted twice in 1986 and 1993, and ```Pascal Payet``` also attempted twice in 2001 and 2007. All instances occurred at four different French prisons; and while both of Payet's attempts were successful, Vaujour's second attempt was unsuccessful.** "
   ]
  },
  {
   "cell_type": "markdown",
   "metadata": {},
   "source": [
    "## Conclusion\n",
    "\n",
    "At the begin of this project, we sought to explore the prison escapes in 15 countries over a 50-year period. We used several Python frameworks and modules such as pandas and matplotlib to analyze and visualize the data. By the end of the project, we were able to ascertain that: \n",
    "\n",
    "* Not more than three (3) escape attempts occured in a given year throughout the period, and only one (1) escape attempt was most likely to occur per year, and\n",
    "\n",
    "* France, being the country with the highest number of escape attempts (15), had nearly double the number of attempts in the United States (8) which ranked second on the list.\n",
    "\n",
    "* Even though France recorded the highest priscon escape attempts, the success rate of prison breaks was about the same for countries like the United States and Canada with significantly lesser escape attempts.\n",
    "\n",
    "* Prison Breaks are twice as likely to be successful with two or more escapees than one escapee.\n",
    "\n",
    "* Pascal Payet was the only prisoner in the 50-year period to attempt two successful prison breaks.\n",
    "\n",
    "### END."
   ]
  }
 ],
 "metadata": {
  "kernelspec": {
   "display_name": "Python 3 (ipykernel)",
   "language": "python",
   "name": "python3"
  },
  "language_info": {
   "codemirror_mode": {
    "name": "ipython",
    "version": 3
   },
   "file_extension": ".py",
   "mimetype": "text/x-python",
   "name": "python",
   "nbconvert_exporter": "python",
   "pygments_lexer": "ipython3",
   "version": "3.8.13"
  }
 },
 "nbformat": 4,
 "nbformat_minor": 2
}
